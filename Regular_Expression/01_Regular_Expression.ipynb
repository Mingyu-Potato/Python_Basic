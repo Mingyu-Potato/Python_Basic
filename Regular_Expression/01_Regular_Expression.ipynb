{
 "cells": [
  {
   "cell_type": "code",
   "execution_count": 1,
   "id": "81c34ee1",
   "metadata": {},
   "outputs": [],
   "source": [
    "import re"
   ]
  },
  {
   "cell_type": "code",
   "execution_count": 2,
   "id": "5fd55f38",
   "metadata": {},
   "outputs": [],
   "source": [
    "p = re.compile('ca.e')"
   ]
  },
  {
   "cell_type": "markdown",
   "id": "f6855d76",
   "metadata": {},
   "source": [
    ". : (ca.e) : 하나의 문자를 의미 > care, cafe, case (O) | caffe (X) <br>\n",
    "^ : (^de) : 문자열의 시작 > desk, destination (O) | fade (X) <br>\n",
    "&#36; : (se) : 문자열의 끝 > case, base (O) | face (X) <br>"
   ]
  },
  {
   "cell_type": "code",
   "execution_count": 7,
   "id": "073ccbc3",
   "metadata": {},
   "outputs": [
    {
     "name": "stdout",
     "output_type": "stream",
     "text": [
      "case\n"
     ]
    }
   ],
   "source": [
    "m = p.match('case')\n",
    "if m:\n",
    "    print(m.group())\n",
    "else:\n",
    "    print('No Match')"
   ]
  },
  {
   "cell_type": "code",
   "execution_count": 9,
   "id": "f1b04c6c",
   "metadata": {},
   "outputs": [
    {
     "name": "stdout",
     "output_type": "stream",
     "text": [
      "No Match\n"
     ]
    }
   ],
   "source": [
    "m = p.match('caffe') # 주어진 문자열의 처음부터 일치하는지 확인\n",
    "if m:\n",
    "    print(m.group())\n",
    "else:\n",
    "    print('No Match')"
   ]
  },
  {
   "cell_type": "code",
   "execution_count": 17,
   "id": "92367dbe",
   "metadata": {},
   "outputs": [],
   "source": [
    "def print_match(m):\n",
    "    if m:\n",
    "        print('m.group() :', m.group()) # 일치하는 문자열 반환\n",
    "        print('m.string :', m.string) # 입력받은 문자열\n",
    "        print('m.start() :', m.start()) # 일치하는 문자열의 시작 index\n",
    "        print('m.end() :', m.end()) # 일치하는 문자열의 끝 index\n",
    "        print('m.span() :', m.span()) # 일치하는 문자열의 시작 / 끝 index\n",
    "    else:\n",
    "        print('No Match')"
   ]
  },
  {
   "cell_type": "code",
   "execution_count": 18,
   "id": "e8d73fa9",
   "metadata": {},
   "outputs": [
    {
     "name": "stdout",
     "output_type": "stream",
     "text": [
      "m.group() : care\n",
      "m.string : careless\n",
      "m.start() : 0\n",
      "m.end() : 4\n",
      "m.span() : (0, 4)\n"
     ]
    }
   ],
   "source": [
    "m = p.search('careless') # 주어진 문자열 중에 일치하는 것이 있는지 확인\n",
    "print_match(m)"
   ]
  },
  {
   "cell_type": "code",
   "execution_count": 19,
   "id": "38cbde14",
   "metadata": {},
   "outputs": [
    {
     "name": "stdout",
     "output_type": "stream",
     "text": [
      "m.group() : care\n",
      "m.string : good care\n",
      "m.start() : 5\n",
      "m.end() : 9\n",
      "m.span() : (5, 9)\n"
     ]
    }
   ],
   "source": [
    "m = p.search('good care')\n",
    "print_match(m)"
   ]
  },
  {
   "cell_type": "code",
   "execution_count": 20,
   "id": "1dc06dbf",
   "metadata": {},
   "outputs": [
    {
     "name": "stdout",
     "output_type": "stream",
     "text": [
      "['care']\n"
     ]
    }
   ],
   "source": [
    "m = p.findall('careless') # 일치하는 모든 것을 리스트 형태로 반환\n",
    "print(m)"
   ]
  },
  {
   "cell_type": "code",
   "execution_count": 21,
   "id": "7a99fcd7",
   "metadata": {},
   "outputs": [
    {
     "name": "stdout",
     "output_type": "stream",
     "text": [
      "['care', 'cafe']\n"
     ]
    }
   ],
   "source": [
    "m = p.findall('good care cafe')\n",
    "print(m)"
   ]
  },
  {
   "cell_type": "code",
   "execution_count": null,
   "id": "05f2bfec",
   "metadata": {},
   "outputs": [],
   "source": [
    " "
   ]
  }
 ],
 "metadata": {
  "kernelspec": {
   "display_name": "Python 3 (ipykernel)",
   "language": "python",
   "name": "python3"
  },
  "language_info": {
   "codemirror_mode": {
    "name": "ipython",
    "version": 3
   },
   "file_extension": ".py",
   "mimetype": "text/x-python",
   "name": "python",
   "nbconvert_exporter": "python",
   "pygments_lexer": "ipython3",
   "version": "3.9.7"
  }
 },
 "nbformat": 4,
 "nbformat_minor": 5
}
