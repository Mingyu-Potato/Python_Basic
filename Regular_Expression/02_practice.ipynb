{
 "cells": [
  {
   "cell_type": "code",
   "execution_count": 1,
   "id": "61697504",
   "metadata": {},
   "outputs": [],
   "source": [
    "import re"
   ]
  },
  {
   "cell_type": "markdown",
   "id": "41bf390d",
   "metadata": {},
   "source": [
    "## Metacharacters\n",
    "\n",
    "|Character|Description|Example|\n",
    "|:---|:---|:---|\n",
    "|[]|A set of characters|\"[a-m]\"|\n",
    "|&#47;|Signals a special sequence|\"\\d\"|\n",
    "|.|Any character|\"he..o\"|\n",
    "|^|Starts with|\"^hello\"|\n",
    "|\\$|Ends with|\"planet\\$\"|\n",
    "|*|Zero or more occurrences|\"he.*o\"|\n",
    "|+|One or more occurrences|\"he.+o\"|\n",
    "|?|Zero or One occurrences|\"he.?o\"|\n",
    "|{}|Exactly the specified number of occurrences|\"he.{2}o\"|\n",
    "|\\||Either or|\"falls\\|stays\"|"
   ]
  },
  {
   "cell_type": "markdown",
   "id": "9e5b8b3f",
   "metadata": {},
   "source": [
    "## Special Sequences\n",
    "\n",
    "|Character|Description|Example|\n",
    "|:---|:---|:---|\n",
    "|\\A|Returns a match if the specified characters are the beginning of the string|\"\\AThe\"|\n",
    "|\\b|Returns a match where the specified characters are at the beginning or at the end of a word<br>(the \"r\" in the beginning is making sure that the string is being treated as a \"raw string\")|r\"\\bain\"<br>r\"ain\\b\"|\n",
    "|\\d|Returns a match where the string contains digits (numbers from 0-9)|\"\\d\"|\n",
    "|\\D|Returns a match where the string DOES NOT contain digits|\"\\D\"|\n",
    "|\\s|Returns a match where the string contains a white space character|\"\\s\"|\n",
    "|\\S|Returns a match where the string DOES NOT contatin a white space character|\"\\S\"|\n",
    "|\\w|Returns a match where the string contains any word characters (characters from a to Z, digits from 0-9, and the underscore _ character|\"\\w\"|\n",
    "|\\W|Returns a match where the string DOES NOT contain any word characters|\"\\W\"|\n",
    "|\\Z|Returns a match if the specified characters are at the end of the string|\"\\Z\"|"
   ]
  },
  {
   "cell_type": "markdown",
   "id": "c14efafe",
   "metadata": {},
   "source": [
    "## Sets\n",
    "\n",
    "|Set|Description|\n",
    "|:---|:---|\n",
    "|[arn]|Returns a match where one of the specified characters (a, r, or n) is present|\n",
    "|[a-n]|Returns a match for any lower case character, alphabetically between a and n|\n",
    "|[^arn]|Returns a match for any character EXCEPT a, r, and n|\n",
    "|[0123]|Returns a match where any of the specified digits (0, 1, 2, or 3) are present|\n",
    "|[0-9]|Returns a match for any digit between 0 and 9|\n",
    "|[0-5][0-9]|Returns a match for any two-digit numbers from 00 and 59|\n",
    "|[a-zA-Z]|Returns a match for any character alphabetically between a and z, lower case OR upper case|\n",
    "|[+]|In sets, \"+\",\"*\",\".\",\"\\|\",\"()\",\"\\$\",\"{}\" has no spacial meaning, so [+] means: return a match for any + character in the string|"
   ]
  },
  {
   "cell_type": "markdown",
   "id": "dbc2e01c",
   "metadata": {},
   "source": [
    "#### 공백 위치 찾기"
   ]
  },
  {
   "cell_type": "code",
   "execution_count": 27,
   "id": "d040a52c",
   "metadata": {},
   "outputs": [
    {
     "name": "stdout",
     "output_type": "stream",
     "text": [
      "The first white-space character is located in position: 3\n"
     ]
    }
   ],
   "source": [
    "txt = 'The rain in Spain'\n",
    "x = re.search('\\s', txt)\n",
    "\n",
    "print(\"The first white-space character is located in position:\", x.start())"
   ]
  },
  {
   "cell_type": "markdown",
   "id": "4af2af0d",
   "metadata": {},
   "source": [
    "#### 공백 단위로 split하기"
   ]
  },
  {
   "cell_type": "code",
   "execution_count": 28,
   "id": "b308db01",
   "metadata": {},
   "outputs": [
    {
     "name": "stdout",
     "output_type": "stream",
     "text": [
      "['The', 'rain', 'in', 'Spain']\n"
     ]
    }
   ],
   "source": [
    "txt = 'The rain in Spain'\n",
    "x = re.split('\\s', txt)\n",
    "\n",
    "print(x)"
   ]
  },
  {
   "cell_type": "code",
   "execution_count": 30,
   "id": "bc41d0d2",
   "metadata": {},
   "outputs": [
    {
     "name": "stdout",
     "output_type": "stream",
     "text": [
      "['The', 'rain in Spain']\n"
     ]
    }
   ],
   "source": [
    "import re\n",
    "\n",
    "txt = \"The rain in Spain\"\n",
    "x = re.split(\"\\s\", txt, maxsplit=1)\n",
    "print(x)"
   ]
  },
  {
   "cell_type": "markdown",
   "id": "b1c27094",
   "metadata": {},
   "source": [
    "#### 텍스트 대체하기"
   ]
  },
  {
   "cell_type": "code",
   "execution_count": 33,
   "id": "f474db3a",
   "metadata": {},
   "outputs": [
    {
     "name": "stdout",
     "output_type": "stream",
     "text": [
      "The9rain9in9Spain\n"
     ]
    }
   ],
   "source": [
    "txt = \"The rain in Spain\"\n",
    "x = re.sub(\"\\s\", \"9\", txt)\n",
    "\n",
    "print(x)"
   ]
  },
  {
   "cell_type": "code",
   "execution_count": 34,
   "id": "930928af",
   "metadata": {},
   "outputs": [
    {
     "name": "stdout",
     "output_type": "stream",
     "text": [
      "The9rain9in Spain\n"
     ]
    }
   ],
   "source": [
    "txt = \"The rain in Spain\"\n",
    "x = re.sub(\"\\s\", \"9\", txt, 2)\n",
    "\n",
    "print(x)"
   ]
  },
  {
   "cell_type": "markdown",
   "id": "7f2908ab",
   "metadata": {},
   "source": [
    "#### 객체 매칭"
   ]
  },
  {
   "cell_type": "code",
   "execution_count": 35,
   "id": "03b5b6c8",
   "metadata": {},
   "outputs": [
    {
     "name": "stdout",
     "output_type": "stream",
     "text": [
      "<re.Match object; span=(5, 7), match='ai'>\n"
     ]
    }
   ],
   "source": [
    "txt = \"The rain in Spain\"\n",
    "x = re.search(\"ai\", txt)\n",
    "\n",
    "print(x)"
   ]
  },
  {
   "cell_type": "code",
   "execution_count": 41,
   "id": "05f8bcaf",
   "metadata": {},
   "outputs": [
    {
     "name": "stdout",
     "output_type": "stream",
     "text": [
      "(12, 17)\n"
     ]
    }
   ],
   "source": [
    "txt = \"The rain in Spain\"\n",
    "x = re.search(r'\\bS\\w+', txt)\n",
    "\n",
    "print(x.span())"
   ]
  },
  {
   "cell_type": "code",
   "execution_count": 43,
   "id": "7c63d0ae",
   "metadata": {},
   "outputs": [
    {
     "name": "stdout",
     "output_type": "stream",
     "text": [
      "The rain in Spain\n"
     ]
    }
   ],
   "source": [
    "txt = \"The rain in Spain\"\n",
    "x = re.search(r'\\bS\\w+', txt)\n",
    "\n",
    "print(x.string)"
   ]
  },
  {
   "cell_type": "code",
   "execution_count": 42,
   "id": "e9978a40",
   "metadata": {},
   "outputs": [
    {
     "name": "stdout",
     "output_type": "stream",
     "text": [
      "Spain\n"
     ]
    }
   ],
   "source": [
    "txt = \"The rain in Spain\"\n",
    "x = re.search(r'\\bS\\w+', txt)\n",
    "\n",
    "print(x.group())"
   ]
  },
  {
   "cell_type": "code",
   "execution_count": null,
   "id": "24dad884",
   "metadata": {},
   "outputs": [],
   "source": []
  }
 ],
 "metadata": {
  "kernelspec": {
   "display_name": "Python 3 (ipykernel)",
   "language": "python",
   "name": "python3"
  },
  "language_info": {
   "codemirror_mode": {
    "name": "ipython",
    "version": 3
   },
   "file_extension": ".py",
   "mimetype": "text/x-python",
   "name": "python",
   "nbconvert_exporter": "python",
   "pygments_lexer": "ipython3",
   "version": "3.9.7"
  }
 },
 "nbformat": 4,
 "nbformat_minor": 5
}
