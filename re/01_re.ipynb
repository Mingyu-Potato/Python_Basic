{
 "cells": [
  {
   "cell_type": "code",
   "execution_count": 2,
   "id": "81c34ee1",
   "metadata": {},
   "outputs": [],
   "source": [
    "import re\n",
    "import time"
   ]
  },
  {
   "cell_type": "markdown",
   "id": "8a5b40a8",
   "metadata": {},
   "source": [
    "#### compile\n",
    "\n",
    "* compile을 사용하면 여러 번 사용할 경우 일반 사용보다 더 빠른 속도를 보임\n",
    "* compile을 통해 정규 표현식을 사용할 경우 `re`가 아닌 컴파일한 객체 이름을 통해 사용해야 함"
   ]
  },
  {
   "cell_type": "code",
   "execution_count": 3,
   "id": "54a9bc61",
   "metadata": {},
   "outputs": [
    {
     "name": "stdout",
     "output_type": "stream",
     "text": [
      "일반 사용시 소요 시간:  0.004987478256225586\n",
      "컴파일 사용시 소요 시간:  0.0019943714141845703\n"
     ]
    }
   ],
   "source": [
    "normal_s_time = time.time()\n",
    "r = \"ab.\"\n",
    "for i in range(10000):\n",
    "    re.match(r, \"abc\")\n",
    "print(\"일반 사용시 소요 시간: \", time.time() - normal_s_time)\n",
    "\n",
    "compile_s_time = time.time()\n",
    "r = re.compile(\"ab.\")\n",
    "for i in range(10000):\n",
    "    r.match(\"abc\")\n",
    "print(\"컴파일 사용시 소요 시간: \", time.time() - compile_s_time)"
   ]
  },
  {
   "cell_type": "markdown",
   "id": "f6855d76",
   "metadata": {},
   "source": [
    ". : (ca.e) : 하나의 문자를 의미 > care, cafe, case (O) | caffe (X) <br>\n",
    "^ : (^de) : 문자열의 시작 > desk, destination (O) | fade (X) <br>\n",
    "&#36; : (se) : 문자열의 끝 > case, base (O) | face (X) <br>"
   ]
  },
  {
   "cell_type": "code",
   "execution_count": 6,
   "id": "41832b51",
   "metadata": {},
   "outputs": [
    {
     "name": "stdout",
     "output_type": "stream",
     "text": [
      "case\n"
     ]
    }
   ],
   "source": [
    "r = re.compile('ca.e')\n",
    "if r.match(\"case\"):\n",
    "    print(r.match(\"case\").group())\n",
    "else:\n",
    "    print(\"No Match\")"
   ]
  },
  {
   "cell_type": "code",
   "execution_count": 7,
   "id": "1cec05c9",
   "metadata": {},
   "outputs": [
    {
     "name": "stdout",
     "output_type": "stream",
     "text": [
      "No Match\n"
     ]
    }
   ],
   "source": [
    "r = re.compile('ca.e')\n",
    "if r.match(\"caffe\"):\n",
    "    print(r.match(\"caffe\").group())\n",
    "else:\n",
    "    print(\"No Match\")"
   ]
  },
  {
   "cell_type": "code",
   "execution_count": 8,
   "id": "92367dbe",
   "metadata": {},
   "outputs": [],
   "source": [
    "def print_match(m):\n",
    "    if m:\n",
    "        print('m.group() :', m.group()) # 일치하는 문자열 반환\n",
    "        print('m.string :', m.string) # 입력받은 문자열\n",
    "        print('m.start() :', m.start()) # 일치하는 문자열의 시작 index\n",
    "        print('m.end() :', m.end()) # 일치하는 문자열의 끝 index\n",
    "        print('m.span() :', m.span()) # 일치하는 문자열의 시작 / 끝 index\n",
    "    else:\n",
    "        print('No Match')"
   ]
  },
  {
   "cell_type": "markdown",
   "id": "30a54b46",
   "metadata": {},
   "source": [
    "#### search\n",
    "\n",
    "* match와 다르게, search는 문자열의 전체를 검사"
   ]
  },
  {
   "cell_type": "code",
   "execution_count": 10,
   "id": "e8d73fa9",
   "metadata": {},
   "outputs": [
    {
     "name": "stdout",
     "output_type": "stream",
     "text": [
      "m.group() : care\n",
      "m.string : careless\n",
      "m.start() : 0\n",
      "m.end() : 4\n",
      "m.span() : (0, 4)\n"
     ]
    }
   ],
   "source": [
    "m = r.search('careless') # 주어진 문자열 중에 일치하는 것이 있는지 확인\n",
    "print_match(m)"
   ]
  },
  {
   "cell_type": "code",
   "execution_count": 11,
   "id": "38cbde14",
   "metadata": {},
   "outputs": [
    {
     "name": "stdout",
     "output_type": "stream",
     "text": [
      "m.group() : care\n",
      "m.string : good care\n",
      "m.start() : 5\n",
      "m.end() : 9\n",
      "m.span() : (5, 9)\n"
     ]
    }
   ],
   "source": [
    "m = r.search('good care')\n",
    "print_match(m)"
   ]
  },
  {
   "cell_type": "markdown",
   "id": "6da95081",
   "metadata": {},
   "source": [
    "#### findall\n",
    "\n",
    "* 컴파일한 정규 표현식을 이용해 정규 표현식과 맞는 모든 문자(열)을 리스트로 반환\n"
   ]
  },
  {
   "cell_type": "code",
   "execution_count": 12,
   "id": "1dc06dbf",
   "metadata": {},
   "outputs": [
    {
     "name": "stdout",
     "output_type": "stream",
     "text": [
      "['care']\n"
     ]
    }
   ],
   "source": [
    "m = r.findall('careless') # 일치하는 모든 것을 리스트 형태로 반환\n",
    "print(m)"
   ]
  },
  {
   "cell_type": "code",
   "execution_count": 13,
   "id": "7a99fcd7",
   "metadata": {},
   "outputs": [
    {
     "name": "stdout",
     "output_type": "stream",
     "text": [
      "['care', 'cafe']\n"
     ]
    }
   ],
   "source": [
    "m = r.findall('good care cafe')\n",
    "print(m)"
   ]
  },
  {
   "cell_type": "markdown",
   "id": "6a5f2e4f",
   "metadata": {},
   "source": [
    "#### split\n",
    "\n",
    "* 정규표현식에 해당하는 문자열을 기준으로 문자열을 나눔"
   ]
  },
  {
   "cell_type": "code",
   "execution_count": 14,
   "id": "1f5ce226",
   "metadata": {},
   "outputs": [
    {
     "name": "stdout",
     "output_type": "stream",
     "text": [
      "['abc', 'abbc', 'abcbab']\n",
      "['ab', ' abb', ' ab', 'bab']\n",
      "['s', 'abc ', 'v', 's ', 'sss ', 'a']\n"
     ]
    }
   ],
   "source": [
    "r = re.compile(\" \")\n",
    "print(r.split(\"abc abbc abcbab\"))\n",
    "\n",
    "r = re.compile(\"c\")\n",
    "print(r.split(\"abc abbc abcbab\"))\n",
    "\n",
    "r = re.compile(\"[1-9]\")\n",
    "print(r.split(\"s1abc 2v3s 4sss 5a\"))"
   ]
  },
  {
   "cell_type": "markdown",
   "id": "b617af72",
   "metadata": {},
   "source": [
    "#### sub\n",
    "\n",
    "* 정규 표현식과 일치하는 부분을 다른 문자열로 교체\n"
   ]
  },
  {
   "cell_type": "code",
   "execution_count": 15,
   "id": "e0e4286b",
   "metadata": {},
   "outputs": [
    {
     "name": "stdout",
     "output_type": "stream",
     "text": [
      "1\n",
      "abc defg\n"
     ]
    }
   ],
   "source": [
    "print(re.sub(\"[a-z]\", \"abc defg\", \"1\"))\n",
    "\n",
    "print(re.sub(\"[^a-z]\", \"abc defg\", \"1\"))"
   ]
  },
  {
   "cell_type": "code",
   "execution_count": null,
   "id": "d6a0df20",
   "metadata": {},
   "outputs": [],
   "source": []
  }
 ],
 "metadata": {
  "kernelspec": {
   "display_name": "Python 3 (ipykernel)",
   "language": "python",
   "name": "python3"
  },
  "language_info": {
   "codemirror_mode": {
    "name": "ipython",
    "version": 3
   },
   "file_extension": ".py",
   "mimetype": "text/x-python",
   "name": "python",
   "nbconvert_exporter": "python",
   "pygments_lexer": "ipython3",
   "version": "3.11.5"
  }
 },
 "nbformat": 4,
 "nbformat_minor": 5
}
